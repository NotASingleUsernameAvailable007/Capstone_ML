{
 "cells": [
  {
   "cell_type": "code",
   "execution_count": 2,
   "metadata": {},
   "outputs": [],
   "source": [
    "import pandas as pd\n",
    "import numpy as np\n",
    "from sklearn.feature_extraction.text import CountVectorizer\n",
    "from sklearn.ensemble import RandomForestClassifier\n",
    "from sklearn.metrics import classification_report,confusion_matrix,accuracy_score"
   ]
  },
  {
   "cell_type": "markdown",
   "metadata": {},
   "source": [
    "Importing dataset"
   ]
  },
  {
   "cell_type": "code",
   "execution_count": 5,
   "metadata": {},
   "outputs": [
    {
     "data": {
      "text/html": [
       "<div>\n",
       "<style scoped>\n",
       "    .dataframe tbody tr th:only-of-type {\n",
       "        vertical-align: middle;\n",
       "    }\n",
       "\n",
       "    .dataframe tbody tr th {\n",
       "        vertical-align: top;\n",
       "    }\n",
       "\n",
       "    .dataframe thead th {\n",
       "        text-align: right;\n",
       "    }\n",
       "</style>\n",
       "<table border=\"1\" class=\"dataframe\">\n",
       "  <thead>\n",
       "    <tr style=\"text-align: right;\">\n",
       "      <th></th>\n",
       "      <th>Restaurant</th>\n",
       "      <th>Review</th>\n",
       "      <th>Rating</th>\n",
       "    </tr>\n",
       "  </thead>\n",
       "  <tbody>\n",
       "    <tr>\n",
       "      <th>0</th>\n",
       "      <td>Beyond Flavours</td>\n",
       "      <td>The ambience was good, food was quite good . h...</td>\n",
       "      <td>5</td>\n",
       "    </tr>\n",
       "    <tr>\n",
       "      <th>1</th>\n",
       "      <td>Beyond Flavours</td>\n",
       "      <td>Ambience is too good for a pleasant evening. S...</td>\n",
       "      <td>5</td>\n",
       "    </tr>\n",
       "    <tr>\n",
       "      <th>2</th>\n",
       "      <td>Beyond Flavours</td>\n",
       "      <td>A must try.. great food great ambience. Thnx f...</td>\n",
       "      <td>5</td>\n",
       "    </tr>\n",
       "    <tr>\n",
       "      <th>3</th>\n",
       "      <td>Beyond Flavours</td>\n",
       "      <td>Soumen das and Arun was a great guy. Only beca...</td>\n",
       "      <td>5</td>\n",
       "    </tr>\n",
       "    <tr>\n",
       "      <th>4</th>\n",
       "      <td>Beyond Flavours</td>\n",
       "      <td>Food is good.we ordered Kodi drumsticks and ba...</td>\n",
       "      <td>5</td>\n",
       "    </tr>\n",
       "  </tbody>\n",
       "</table>\n",
       "</div>"
      ],
      "text/plain": [
       "        Restaurant                                             Review Rating\n",
       "0  Beyond Flavours  The ambience was good, food was quite good . h...      5\n",
       "1  Beyond Flavours  Ambience is too good for a pleasant evening. S...      5\n",
       "2  Beyond Flavours  A must try.. great food great ambience. Thnx f...      5\n",
       "3  Beyond Flavours  Soumen das and Arun was a great guy. Only beca...      5\n",
       "4  Beyond Flavours  Food is good.we ordered Kodi drumsticks and ba...      5"
      ]
     },
     "execution_count": 5,
     "metadata": {},
     "output_type": "execute_result"
    }
   ],
   "source": [
    "df=pd.read_csv('Restaurant reviews.csv', encoding = \"ISO-8859-1\")\n",
    "\n",
    "# Select only the 'Restaurant', 'Review', and 'Rating' columns\n",
    "df = df[['Restaurant', 'Review', 'Rating']]\n",
    "df.head()"
   ]
  },
  {
   "cell_type": "code",
   "execution_count": 6,
   "metadata": {},
   "outputs": [
    {
     "name": "stderr",
     "output_type": "stream",
     "text": [
      "c:\\Users\\Madhukar\\AppData\\Local\\Programs\\Python\\Python310\\lib\\site-packages\\tqdm\\auto.py:21: TqdmWarning: IProgress not found. Please update jupyter and ipywidgets. See https://ipywidgets.readthedocs.io/en/stable/user_install.html\n",
      "  from .autonotebook import tqdm as notebook_tqdm\n",
      "No model was supplied, defaulted to distilbert/distilbert-base-uncased-finetuned-sst-2-english and revision af0f99b (https://huggingface.co/distilbert/distilbert-base-uncased-finetuned-sst-2-english).\n",
      "Using a pipeline without specifying a model name and revision in production is not recommended.\n",
      "c:\\Users\\Madhukar\\AppData\\Local\\Programs\\Python\\Python310\\lib\\site-packages\\huggingface_hub\\file_download.py:148: UserWarning: `huggingface_hub` cache-system uses symlinks by default to efficiently store duplicated files but your machine does not support them in C:\\Users\\Madhukar\\.cache\\huggingface\\hub\\models--distilbert--distilbert-base-uncased-finetuned-sst-2-english. Caching files will still work but in a degraded version that might require more space on your disk. This warning can be disabled by setting the `HF_HUB_DISABLE_SYMLINKS_WARNING` environment variable. For more details, see https://huggingface.co/docs/huggingface_hub/how-to-cache#limitations.\n",
      "To support symlinks on Windows, you either need to activate Developer Mode or to run Python as an administrator. In order to see activate developer mode, see this article: https://docs.microsoft.com/en-us/windows/apps/get-started/enable-your-device-for-development\n",
      "  warnings.warn(message)\n",
      "All PyTorch model weights were used when initializing TFDistilBertForSequenceClassification.\n",
      "\n",
      "All the weights of TFDistilBertForSequenceClassification were initialized from the PyTorch model.\n",
      "If your task is similar to the task the model of the checkpoint was trained on, you can already use TFDistilBertForSequenceClassification for predictions without further training.\n"
     ]
    },
    {
     "name": "stdout",
     "output_type": "stream",
     "text": [
      "Aspect: ambience, Sentiment: POSITIVE (1.00)\n",
      "Aspect: food, Sentiment: POSITIVE (1.00)\n",
      "Aspect: lunch, Sentiment: POSITIVE (0.99)\n"
     ]
    }
   ],
   "source": [
    "import spacy\n",
    "from transformers import pipeline\n",
    "\n",
    "# Load spaCy model for English\n",
    "nlp = spacy.load(\"en_core_web_sm\")\n",
    "\n",
    "# Load sentiment analysis pipeline from Hugging Face\n",
    "sentiment_pipeline = pipeline(\"sentiment-analysis\")\n",
    "\n",
    "# Your review text\n",
    "text = \"The ambience was good, food was quite good. Had Saturday lunch, but very expensive.\"\n",
    "\n",
    "# Process text with spaCy to extract aspects (nouns)\n",
    "doc = nlp(text)\n",
    "aspects = [token.text for token in doc if token.pos_ == 'NOUN']\n",
    "\n",
    "# Analyze sentiment for each aspect\n",
    "results = {aspect: sentiment_pipeline(f\"The {aspect} was\")[0] for aspect in aspects}\n",
    "\n",
    "# Display results\n",
    "for aspect, sentiment in results.items():\n",
    "    print(f\"Aspect: {aspect}, Sentiment: {sentiment['label']} ({sentiment['score']:.2f})\")\n"
   ]
  },
  {
   "cell_type": "code",
   "execution_count": 8,
   "metadata": {},
   "outputs": [
    {
     "name": "stderr",
     "output_type": "stream",
     "text": [
      "No model was supplied, defaulted to distilbert/distilbert-base-uncased-finetuned-sst-2-english and revision af0f99b (https://huggingface.co/distilbert/distilbert-base-uncased-finetuned-sst-2-english).\n",
      "Using a pipeline without specifying a model name and revision in production is not recommended.\n",
      "All PyTorch model weights were used when initializing TFDistilBertForSequenceClassification.\n",
      "\n",
      "All the weights of TFDistilBertForSequenceClassification were initialized from the PyTorch model.\n",
      "If your task is similar to the task the model of the checkpoint was trained on, you can already use TFDistilBertForSequenceClassification for predictions without further training.\n"
     ]
    },
    {
     "name": "stdout",
     "output_type": "stream",
     "text": [
      "Aspect: food, Sentiment: POSITIVE (1.00)\n",
      "Aspect: lunch, Sentiment: POSITIVE (0.99)\n",
      "Aspect: ambience, Sentiment: POSITIVE (1.00)\n"
     ]
    }
   ],
   "source": [
    "import spacy\n",
    "from transformers import pipeline\n",
    "\n",
    "# Load spaCy model for English\n",
    "nlp = spacy.load(\"en_core_web_sm\")\n",
    "\n",
    "# Load sentiment analysis pipeline\n",
    "sentiment_pipeline = pipeline(\"sentiment-analysis\")\n",
    "\n",
    "# Example text\n",
    "text = \"The ambience was good, the food was quite good. Had Saturday lunch, but the food was very expensive.\"\n",
    "\n",
    "# Process text with spaCy\n",
    "doc = nlp(text)\n",
    "\n",
    "# Find noun phrases and adjectives near nouns\n",
    "aspects = []\n",
    "for token in doc:\n",
    "    # Check for noun phrases directly\n",
    "    if token.dep_ in ('nsubj', 'dobj') and token.head.pos_ == 'ADJ':\n",
    "        aspect = f\"{token.head.text} {token.text}\"\n",
    "        aspects.append(aspect)\n",
    "    elif token.pos_ == 'NOUN':\n",
    "        aspects.append(token.text)\n",
    "\n",
    "# Remove duplicates and ensure each aspect is only listed once\n",
    "aspects = list(set(aspects))\n",
    "\n",
    "# Analyze sentiment for each aspect\n",
    "results = {}\n",
    "for aspect in aspects:\n",
    "    # For each aspect, form a sentence assuming it's the subject\n",
    "    test_sentence = f\"The {aspect} was\"\n",
    "    result = sentiment_pipeline(test_sentence)[0]\n",
    "    results[aspect] = result\n",
    "\n",
    "# Print results\n",
    "for aspect, sentiment in results.items():\n",
    "    print(f\"Aspect: {aspect}, Sentiment: {sentiment['label']} ({sentiment['score']:.2f})\")"
   ]
  },
  {
   "cell_type": "code",
   "execution_count": 9,
   "metadata": {},
   "outputs": [
    {
     "name": "stderr",
     "output_type": "stream",
     "text": [
      "No model was supplied, defaulted to distilbert/distilbert-base-uncased-finetuned-sst-2-english and revision af0f99b (https://huggingface.co/distilbert/distilbert-base-uncased-finetuned-sst-2-english).\n",
      "Using a pipeline without specifying a model name and revision in production is not recommended.\n",
      "All PyTorch model weights were used when initializing TFDistilBertForSequenceClassification.\n",
      "\n",
      "All the weights of TFDistilBertForSequenceClassification were initialized from the PyTorch model.\n",
      "If your task is similar to the task the model of the checkpoint was trained on, you can already use TFDistilBertForSequenceClassification for predictions without further training.\n"
     ]
    },
    {
     "name": "stdout",
     "output_type": "stream",
     "text": [
      "Aspect: ambience, Sentiment: POSITIVE (1.00)\n",
      "Aspect: food, Sentiment: POSITIVE (1.00)\n",
      "Aspect: lunch, Sentiment: POSITIVE (0.99)\n"
     ]
    }
   ],
   "source": [
    "import spacy\n",
    "from transformers import pipeline\n",
    "\n",
    "# Load spaCy model\n",
    "nlp = spacy.load(\"en_core_web_sm\")\n",
    "\n",
    "# Load sentiment analysis pipeline\n",
    "sentiment_pipeline = pipeline(\"sentiment-analysis\")\n",
    "\n",
    "# Example text\n",
    "text = \"The ambience was good, the food was quite good. Had Saturday lunch, but the food was very expensive.\"\n",
    "\n",
    "# Process text with spaCy\n",
    "doc = nlp(text)\n",
    "\n",
    "# Identify aspects based on noun phrases and their adjectives\n",
    "aspects = {}\n",
    "for token in doc:\n",
    "    if token.dep_ in ('amod', 'acomp') and token.head.pos_ == 'NOUN':  # adjectives modifying nouns\n",
    "        aspect = f\"{token.head.text} {token.text}\"\n",
    "        aspects[token.head.text] = aspect\n",
    "    elif token.pos_ == 'NOUN' and token.text not in aspects:  # capturing nouns not already captured as part of an adjective-noun\n",
    "        aspects[token.text] = token.text\n",
    "\n",
    "# Analyze sentiment for each aspect\n",
    "results = {}\n",
    "for key, aspect in aspects.items():\n",
    "    # Form a contextual sentence for sentiment analysis\n",
    "    sentiment_text = f\"The {aspect} was\"\n",
    "    results[aspect] = sentiment_pipeline(sentiment_text)[0]\n",
    "\n",
    "# Print results\n",
    "for aspect, sentiment in results.items():\n",
    "    print(f\"Aspect: {aspect}, Sentiment: {sentiment['label']} ({sentiment['score']:.2f})\")"
   ]
  }
 ],
 "metadata": {
  "kernelspec": {
   "display_name": "Python 3",
   "language": "python",
   "name": "python3"
  },
  "language_info": {
   "codemirror_mode": {
    "name": "ipython",
    "version": 3
   },
   "file_extension": ".py",
   "mimetype": "text/x-python",
   "name": "python",
   "nbconvert_exporter": "python",
   "pygments_lexer": "ipython3",
   "version": "3.10.10"
  }
 },
 "nbformat": 4,
 "nbformat_minor": 2
}
